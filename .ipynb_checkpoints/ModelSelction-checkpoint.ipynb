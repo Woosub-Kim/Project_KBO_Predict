{
 "cells": [
  {
   "cell_type": "code",
   "execution_count": 1,
   "metadata": {},
   "outputs": [],
   "source": [
    "# 승1패 함수1\n",
    "def result_fnc1(difference):\n",
    "    if difference >= 2:\n",
    "        return 'away'\n",
    "    elif difference <= -2:\n",
    "        return  'home'\n",
    "    else:\n",
    "        return 'near'\n",
    "#승무패\n",
    "def result_fnc0(difference):\n",
    "    if difference >= 1:\n",
    "        return 'away'\n",
    "    elif difference <= -1:\n",
    "        return  'home'\n",
    "    else:\n",
    "        return 'near'"
   ]
  },
  {
   "cell_type": "markdown",
   "metadata": {},
   "source": [
    "# Random forest\n",
    "## default 파라미터 사용시 심한 과적합 발생"
   ]
  },
  {
   "cell_type": "code",
   "execution_count": 6,
   "metadata": {
    "scrolled": false
   },
   "outputs": [
    {
     "name": "stdout",
     "output_type": "stream",
     "text": [
      "              precision    recall  f1-score   support\n",
      "\n",
      "        away       0.51      0.48      0.49       185\n",
      "        home       0.59      0.63      0.61       225\n",
      "        near       0.00      0.00      0.00         4\n",
      "\n",
      "    accuracy                           0.56       414\n",
      "   macro avg       0.37      0.37      0.37       414\n",
      "weighted avg       0.55      0.56      0.55       414\n",
      "\n",
      "              precision    recall  f1-score   support\n",
      "\n",
      "        away       1.00      1.00      1.00       557\n",
      "        home       1.00      1.00      1.00       668\n",
      "        near       1.00      1.00      1.00        16\n",
      "\n",
      "    accuracy                           1.00      1241\n",
      "   macro avg       1.00      1.00      1.00      1241\n",
      "weighted avg       1.00      1.00      1.00      1241\n",
      "\n"
     ]
    },
    {
     "name": "stderr",
     "output_type": "stream",
     "text": [
      "C:\\Users\\103-04\\Anaconda3\\lib\\site-packages\\sklearn\\metrics\\_classification.py:1272: UndefinedMetricWarning: Precision and F-score are ill-defined and being set to 0.0 in labels with no predicted samples. Use `zero_division` parameter to control this behavior.\n",
      "  _warn_prf(average, modifier, msg_start, len(result))\n"
     ]
    }
   ],
   "source": [
    "#1차 모델링 WAR정보가 없는 경우 0 \n",
    "import pandas as pd\n",
    "game_war = pd.read_csv('game_war.csv', encoding='cp949')\n",
    "game_score = pd.read_csv('game_score.csv', encoding = 'cp949', header=None)\n",
    "game_score.columns = ['경기', '결과']\n",
    "\n",
    "df = pd.merge(game_war, game_score , on='경기' )\n",
    "df['결과'] = df.결과.apply(lambda x: int(x.split(':')[0])-int(x.split(':')[1]) )\n",
    "#승1패\n",
    "#df['결과'] = df.결과.apply(result_fnc1)\n",
    "#승무패\n",
    "df['결과'] = df.결과.apply(result_fnc0)\n",
    "\n",
    "y = df.결과\n",
    "x = df.drop(['경기','결과', 'Unnamed: 0'], axis=1)\n",
    "\n",
    "from sklearn.model_selection import train_test_split\n",
    "x_train, x_test, y_train, y_test = train_test_split(x,y)\n",
    "\n",
    "from sklearn.ensemble import RandomForestClassifier\n",
    "forest = RandomForestClassifier()\n",
    "forest.fit(x_train, y_train)\n",
    "pred = forest.predict(x_test)\n",
    "\n",
    "from sklearn.metrics import classification_report\n",
    "report = classification_report(y_test, pred)\n",
    "\n",
    "#overfit\n",
    "pred_over_fit = forest.predict(x_train)\n",
    "report_over_fit = classification_report(y_train, pred_over_fit)\n",
    "\n",
    "print(report)\n",
    "print(report_over_fit)"
   ]
  },
  {
   "cell_type": "code",
   "execution_count": null,
   "metadata": {},
   "outputs": [],
   "source": [
    "#1차 모델링 WAR정보가 없는 경우 0 \n",
    "import pandas as pd\n",
    "import numpy as np\n",
    "game_war = pd.read_csv('game_war.csv', encoding='cp949')\n",
    "game_score = pd.read_csv('game_score.csv', encoding = 'cp949', header=None)\n",
    "game_score.columns = ['경기', '결과']\n",
    "\n",
    "df = pd.merge(game_war, game_score , on='경기' )\n",
    "df['결과'] = df.결과.apply(lambda x: int(x.split(':')[0])-int(x.split(':')[1]) )\n",
    "#승1패\n",
    "#df['결과'] = df.결과.apply(result_fnc1)\n",
    "#승무패\n",
    "df['결과'] = df.결과.apply(result_fnc0)\n",
    "\n",
    "y = df.결과\n",
    "x = df.drop(['경기','결과', 'Unnamed: 0'], axis=1)\n",
    "\n",
    "from sklearn.model_selection import train_test_split\n",
    "x_train, x_test, y_train, y_test = train_test_split(x,y)\n",
    "\n",
    "from sklearn.ensemble import RandomForestClassifier\n",
    "forest = RandomForestClassifier(n_estimators=500000, max_features =30)\n",
    "forest.fit(x_train, y_train)\n",
    "pred = forest.predict(x_test)\n",
    "\n",
    "from sklearn.metrics import classification_report\n",
    "report = classification_report(y_test, pred)\n",
    "\n",
    "#overfit\n",
    "pred_over_fit = forest.predict(x_train)\n",
    "report_over_fit = classification_report(y_train, pred_over_fit)\n",
    "\n",
    "print(report)\n",
    "print(report_over_fit)"
   ]
  },
  {
   "cell_type": "markdown",
   "metadata": {},
   "source": [
    "# Logistic Regression"
   ]
  },
  {
   "cell_type": "code",
   "execution_count": 7,
   "metadata": {},
   "outputs": [
    {
     "name": "stdout",
     "output_type": "stream",
     "text": [
      "              precision    recall  f1-score   support\n",
      "\n",
      "        away       0.51      0.30      0.38       194\n",
      "        home       0.53      0.74      0.62       215\n",
      "        near       0.00      0.00      0.00         5\n",
      "\n",
      "    accuracy                           0.53       414\n",
      "   macro avg       0.35      0.35      0.33       414\n",
      "weighted avg       0.52      0.53      0.50       414\n",
      "\n",
      "              precision    recall  f1-score   support\n",
      "\n",
      "        away       0.58      0.35      0.44       548\n",
      "        home       0.60      0.80      0.69       678\n",
      "        near       0.00      0.00      0.00        15\n",
      "\n",
      "    accuracy                           0.59      1241\n",
      "   macro avg       0.39      0.39      0.38      1241\n",
      "weighted avg       0.59      0.59      0.57      1241\n",
      "\n"
     ]
    },
    {
     "name": "stderr",
     "output_type": "stream",
     "text": [
      "C:\\Users\\103-04\\Anaconda3\\lib\\site-packages\\sklearn\\metrics\\_classification.py:1272: UndefinedMetricWarning: Precision and F-score are ill-defined and being set to 0.0 in labels with no predicted samples. Use `zero_division` parameter to control this behavior.\n",
      "  _warn_prf(average, modifier, msg_start, len(result))\n",
      "C:\\Users\\103-04\\Anaconda3\\lib\\site-packages\\sklearn\\metrics\\_classification.py:1272: UndefinedMetricWarning: Precision and F-score are ill-defined and being set to 0.0 in labels with no predicted samples. Use `zero_division` parameter to control this behavior.\n",
      "  _warn_prf(average, modifier, msg_start, len(result))\n"
     ]
    }
   ],
   "source": [
    "#1차 모델링 WAR정보가 없는 경우 0 \n",
    "import pandas as pd\n",
    "game_war = pd.read_csv('game_war.csv', encoding='cp949')\n",
    "game_score = pd.read_csv('game_score.csv', encoding = 'cp949', header=None)\n",
    "game_score.columns = ['경기', '결과']\n",
    "\n",
    "df = pd.merge(game_war, game_score , on='경기' )\n",
    "df['결과'] = df.결과.apply(lambda x: int(x.split(':')[0])-int(x.split(':')[1]) )\n",
    "#승1패\n",
    "#df['결과'] = df.결과.apply(result_fnc1)\n",
    "#승무패\n",
    "df['결과'] = df.결과.apply(result_fnc0)\n",
    "\n",
    "y = df.결과\n",
    "x = df.drop(['경기','결과', 'Unnamed: 0'], axis=1)\n",
    "\n",
    "\n",
    "from sklearn.model_selection import train_test_split\n",
    "x_train, x_test, y_train, y_test = train_test_split(x,y)\n",
    "\n",
    "from sklearn.linear_model import LogisticRegression\n",
    "lr = LogisticRegression()\n",
    "lr.fit(x_train, y_train)\n",
    "pred = lr.predict(x_test)\n",
    "\n",
    "\n",
    "from sklearn.metrics import classification_report\n",
    "report = classification_report(y_test, pred)\n",
    "\n",
    "#overfit\n",
    "pred_over_fit = lr.predict(x_train)\n",
    "report_over_fit = classification_report(y_train, pred_over_fit)\n",
    "\n",
    "print(report)\n",
    "print(report_over_fit)"
   ]
  },
  {
   "cell_type": "markdown",
   "metadata": {},
   "source": [
    "# 서포트벡터머신"
   ]
  },
  {
   "cell_type": "code",
   "execution_count": 9,
   "metadata": {},
   "outputs": [
    {
     "name": "stdout",
     "output_type": "stream",
     "text": [
      "              precision    recall  f1-score   support\n",
      "\n",
      "        away       0.54      0.28      0.37       194\n",
      "        home       0.55      0.79      0.65       216\n",
      "        near       0.00      0.00      0.00         4\n",
      "\n",
      "    accuracy                           0.55       414\n",
      "   macro avg       0.36      0.36      0.34       414\n",
      "weighted avg       0.54      0.55      0.51       414\n",
      "\n",
      "              precision    recall  f1-score   support\n",
      "\n",
      "        away       0.75      0.45      0.56       548\n",
      "        home       0.66      0.89      0.75       677\n",
      "        near       0.00      0.00      0.00        16\n",
      "\n",
      "    accuracy                           0.68      1241\n",
      "   macro avg       0.47      0.45      0.44      1241\n",
      "weighted avg       0.69      0.68      0.66      1241\n",
      "\n"
     ]
    },
    {
     "name": "stderr",
     "output_type": "stream",
     "text": [
      "C:\\Users\\103-04\\Anaconda3\\lib\\site-packages\\sklearn\\metrics\\_classification.py:1272: UndefinedMetricWarning: Precision and F-score are ill-defined and being set to 0.0 in labels with no predicted samples. Use `zero_division` parameter to control this behavior.\n",
      "  _warn_prf(average, modifier, msg_start, len(result))\n",
      "C:\\Users\\103-04\\Anaconda3\\lib\\site-packages\\sklearn\\metrics\\_classification.py:1272: UndefinedMetricWarning: Precision and F-score are ill-defined and being set to 0.0 in labels with no predicted samples. Use `zero_division` parameter to control this behavior.\n",
      "  _warn_prf(average, modifier, msg_start, len(result))\n"
     ]
    }
   ],
   "source": [
    "#1차 모델링 WAR정보가 없는 경우 0 \n",
    "import pandas as pd\n",
    "game_war = pd.read_csv('game_war.csv', encoding='cp949')\n",
    "\n",
    "game_score = pd.read_csv('game_score.csv', encoding = 'cp949', header=None)\n",
    "game_score.columns = ['경기', '결과']\n",
    "\n",
    "df = pd.merge(game_war, game_score , on='경기' )\n",
    "df['결과'] = df.결과.apply(lambda x: int(x.split(':')[0])-int(x.split(':')[1]) )\n",
    "#승1패\n",
    "#df['결과'] = df.결과.apply(result_fnc1)\n",
    "#승무패\n",
    "df['결과'] = df.결과.apply(result_fnc0)\n",
    "\n",
    "y = df.결과\n",
    "x = df.drop(['경기','결과', 'Unnamed: 0'], axis=1)\n",
    "\n",
    "\n",
    "from sklearn.model_selection import train_test_split\n",
    "x_train, x_test, y_train, y_test = train_test_split(x,y)\n",
    "\n",
    "from sklearn.svm import SVC\n",
    "svm = SVC()\n",
    "svm.fit(x_train, y_train)\n",
    "pred = svm.predict(x_test)\n",
    "\n",
    "from sklearn.metrics import classification_report\n",
    "report = classification_report(y_test, pred)\n",
    "\n",
    "#overfit\n",
    "pred_over_fit = svm.predict(x_train)\n",
    "report_over_fit = classification_report(y_train, pred_over_fit)\n",
    "\n",
    "print(report)\n",
    "print(report_over_fit)"
   ]
  },
  {
   "cell_type": "code",
   "execution_count": null,
   "metadata": {},
   "outputs": [],
   "source": [
    "#1차 모델링 WAR정보가 없는 경우 0 \n",
    "import pandas as pd\n",
    "game_war = pd.read_csv('game_war.csv', encoding='cp949')\n",
    "\n",
    "game_score = pd.read_csv('game_score.csv', encoding = 'cp949', header=None)\n",
    "game_score.columns = ['경기', '결과']\n",
    "\n",
    "df = pd.merge(game_war, game_score , on='경기' )\n",
    "df['결과'] = df.결과.apply(lambda x: int(x.split(':')[0])-int(x.split(':')[1]) )\n",
    "#승1패\n",
    "#df['결과'] = df.결과.apply(result_fnc1)\n",
    "#승무패\n",
    "df['결과'] = df.결과.apply(result_fnc0)\n",
    "\n",
    "y = df.결과\n",
    "x = df.drop(['경기','결과', 'Unnamed: 0'], axis=1)\n",
    "\n",
    "\n",
    "from sklearn.model_selection import train_test_split\n",
    "x_train, x_test, y_train, y_test = train_test_split(x,y)\n",
    "\n",
    "from sklearn.svm import SVC\n",
    "svm = SVC(C=100)\n",
    "svm.fit(x_train, y_train)\n",
    "pred = svm.predict(x_test)\n",
    "\n",
    "from sklearn.metrics import classification_report\n",
    "report = classification_report(y_test, pred)\n",
    "\n",
    "#overfit\n",
    "pred_over_fit = svm.predict(x_train)\n",
    "report_over_fit = classification_report(y_train, pred_over_fit)\n",
    "\n",
    "print(report)\n",
    "print(report_over_fit)"
   ]
  },
  {
   "cell_type": "code",
   "execution_count": null,
   "metadata": {},
   "outputs": [],
   "source": []
  },
  {
   "cell_type": "code",
   "execution_count": null,
   "metadata": {},
   "outputs": [],
   "source": []
  },
  {
   "cell_type": "code",
   "execution_count": null,
   "metadata": {},
   "outputs": [],
   "source": []
  },
  {
   "cell_type": "code",
   "execution_count": null,
   "metadata": {},
   "outputs": [],
   "source": []
  },
  {
   "cell_type": "code",
   "execution_count": null,
   "metadata": {},
   "outputs": [],
   "source": []
  }
 ],
 "metadata": {
  "kernelspec": {
   "display_name": "Python 3",
   "language": "python",
   "name": "python3"
  },
  "language_info": {
   "codemirror_mode": {
    "name": "ipython",
    "version": 3
   },
   "file_extension": ".py",
   "mimetype": "text/x-python",
   "name": "python",
   "nbconvert_exporter": "python",
   "pygments_lexer": "ipython3",
   "version": "3.7.4"
  }
 },
 "nbformat": 4,
 "nbformat_minor": 4
}
