{
 "cells": [
  {
   "cell_type": "markdown",
   "metadata": {},
   "source": [
    "# 각 팀의 선발선수들의 최근 WAR을 반영하여 승패을 예측하는 모델을 피클로"
   ]
  },
  {
   "cell_type": "code",
   "execution_count": 2,
   "metadata": {},
   "outputs": [
    {
     "name": "stdout",
     "output_type": "stream",
     "text": [
      "              precision    recall  f1-score   support\n",
      "\n",
      "        away       0.50      0.40      0.45       173\n",
      "        home       0.60      0.71      0.65       233\n",
      "        near       0.00      0.00      0.00         8\n",
      "\n",
      "    accuracy                           0.57       414\n",
      "   macro avg       0.37      0.37      0.36       414\n",
      "weighted avg       0.55      0.57      0.55       414\n",
      "\n",
      "              precision    recall  f1-score   support\n",
      "\n",
      "        away       0.57      0.42      0.48       569\n",
      "        home       0.58      0.73      0.65       660\n",
      "        near       0.00      0.00      0.00        12\n",
      "\n",
      "    accuracy                           0.58      1241\n",
      "   macro avg       0.38      0.38      0.38      1241\n",
      "weighted avg       0.57      0.58      0.57      1241\n",
      "\n"
     ]
    },
    {
     "name": "stderr",
     "output_type": "stream",
     "text": [
      "C:\\Users\\103-04\\Anaconda3\\lib\\site-packages\\sklearn\\metrics\\_classification.py:1272: UndefinedMetricWarning: Precision and F-score are ill-defined and being set to 0.0 in labels with no predicted samples. Use `zero_division` parameter to control this behavior.\n",
      "  _warn_prf(average, modifier, msg_start, len(result))\n"
     ]
    }
   ],
   "source": [
    "#승무패를 처리하는 result_fnc0, 승1패를 처리하는 result_fnc1\n",
    "from BaseballGameResult import result_fnc0, result_fnc1\n",
    "#1차 모델링 WAR정보가 없는 경우 0 \n",
    "import pandas as pd\n",
    "game_war = pd.read_csv('game_war.csv', encoding='cp949')\n",
    "\n",
    "game_score = pd.read_csv('game_score.csv', encoding = 'cp949', header=None)\n",
    "game_score.columns = ['경기', '결과']\n",
    "\n",
    "df = pd.merge(game_war, game_score , on='경기' )\n",
    "df['결과'] = df.결과.apply(lambda x: int(x.split(':')[0])-int(x.split(':')[1]) )\n",
    "#승1패\n",
    "#df['결과'] = df.결과.apply(result_fnc1)\n",
    "#승무패\n",
    "df['결과'] = df.결과.apply(result_fnc0)\n",
    "\n",
    "y = df.결과\n",
    "x = df.drop(['경기','결과', 'Unnamed: 0'], axis=1)\n",
    "\n",
    "\n",
    "from sklearn.model_selection import train_test_split\n",
    "x_train, x_test, y_train, y_test = train_test_split(x,y)\n",
    "\n",
    "from sklearn.preprocessing import StandardScaler\n",
    "x_train = StandardScaler().fit_transform(x_train)\n",
    "x_test = StandardScaler().fit_transform(x_test)\n",
    "\n",
    "from sklearn.linear_model import LogisticRegression\n",
    "lr = LogisticRegression(C=100, max_iter=1000)\n",
    "lr.fit(x_train, y_train)\n",
    "pred = lr.predict(x_test)\n",
    "\n",
    "\n",
    "from sklearn.metrics import classification_report\n",
    "report = classification_report(y_test, pred)\n",
    "\n",
    "#overfit\n",
    "pred_over_fit = lr.predict(x_train)\n",
    "report_over_fit = classification_report(y_train, pred_over_fit)\n",
    "\n",
    "print(report)\n",
    "print(report_over_fit)"
   ]
  },
  {
   "cell_type": "code",
   "execution_count": 3,
   "metadata": {},
   "outputs": [],
   "source": [
    "import pickle\n",
    "with open('KBOpredictor.pickle','wb') as f:\n",
    "    pickle.dump(lr,f)"
   ]
  }
 ],
 "metadata": {
  "kernelspec": {
   "display_name": "Python 3",
   "language": "python",
   "name": "python3"
  },
  "language_info": {
   "codemirror_mode": {
    "name": "ipython",
    "version": 3
   },
   "file_extension": ".py",
   "mimetype": "text/x-python",
   "name": "python",
   "nbconvert_exporter": "python",
   "pygments_lexer": "ipython3",
   "version": "3.7.4"
  }
 },
 "nbformat": 4,
 "nbformat_minor": 4
}
